{
 "cells": [
  {
   "cell_type": "code",
   "execution_count": 5,
   "id": "a74f1d33",
   "metadata": {},
   "outputs": [],
   "source": [
    "# 11.2 importing zoo.py modules as menegerie\n",
    "import zoo as menagerie"
   ]
  },
  {
   "cell_type": "code",
   "execution_count": 6,
   "id": "aabfbc9a",
   "metadata": {},
   "outputs": [
    {
     "name": "stdout",
     "output_type": "stream",
     "text": [
      "Open 9-5 daily\n"
     ]
    }
   ],
   "source": [
    "# calling hours() function using imported name\n",
    "menagerie.hours()"
   ]
  },
  {
   "cell_type": "code",
   "execution_count": 16,
   "id": "400fb3d0",
   "metadata": {},
   "outputs": [
    {
     "name": "stdout",
     "output_type": "stream",
     "text": [
      "{'author': 'Lynne Truss', 'book': 'Eat, Shoots & Leaves'}\n"
     ]
    }
   ],
   "source": [
    "# 16.2 import csv module and using 'DictReader' method to read\n",
    "# and then print the books\n",
    "# reference https://docs.python.org/3/library/csv.html\n",
    "import csv\n",
    "with open('books.csv', newline='') as csvfile:\n",
    "    books = csv.DictReader(csvfile)\n",
    "    print(row)\n",
    "    \"\"\"for row in books:\n",
    "        print(row['book'])\"\"\"\n",
    "    "
   ]
  },
  {
   "cell_type": "code",
   "execution_count": null,
   "id": "7f3d5de4",
   "metadata": {},
   "outputs": [],
   "source": []
  }
 ],
 "metadata": {
  "kernelspec": {
   "display_name": "Python 3 (ipykernel)",
   "language": "python",
   "name": "python3"
  },
  "language_info": {
   "codemirror_mode": {
    "name": "ipython",
    "version": 3
   },
   "file_extension": ".py",
   "mimetype": "text/x-python",
   "name": "python",
   "nbconvert_exporter": "python",
   "pygments_lexer": "ipython3",
   "version": "3.9.13"
  }
 },
 "nbformat": 4,
 "nbformat_minor": 5
}
